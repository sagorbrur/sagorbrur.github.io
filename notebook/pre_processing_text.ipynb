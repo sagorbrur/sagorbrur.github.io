{
  "nbformat": 4,
  "nbformat_minor": 0,
  "metadata": {
    "colab": {
      "name": "pre-processing_text.ipynb",
      "version": "0.3.2",
      "provenance": [],
      "collapsed_sections": [],
      "include_colab_link": true
    },
    "kernelspec": {
      "name": "python3",
      "display_name": "Python 3"
    }
  },
  "cells": [
    {
      "cell_type": "markdown",
      "metadata": {
        "id": "view-in-github",
        "colab_type": "text"
      },
      "source": [
        "<a href=\"https://colab.research.google.com/github/sagorbrur/Text_Preprocessing/blob/master/pre_processing_text.ipynb\" target=\"_parent\"><img src=\"https://colab.research.google.com/assets/colab-badge.svg\" alt=\"Open In Colab\"/></a>"
      ]
    },
    {
      "cell_type": "markdown",
      "metadata": {
        "id": "OUlYSQyVW6jV",
        "colab_type": "text"
      },
      "source": [
        "# Text Pre-processing in keras"
      ]
    },
    {
      "cell_type": "markdown",
      "metadata": {
        "id": "EaHmOOiOXVM0",
        "colab_type": "text"
      },
      "source": [
        "## Downloading data"
      ]
    },
    {
      "cell_type": "code",
      "metadata": {
        "id": "51qPSm6AhWPO",
        "colab_type": "code",
        "colab": {
          "base_uri": "https://localhost:8080/",
          "height": 224
        },
        "outputId": "695bca66-81ab-4169-cd21-878c47aa8a44"
      },
      "source": [
        "!wget https://www.gutenberg.org/files/59400/59400-0.txt"
      ],
      "execution_count": 2,
      "outputs": [
        {
          "output_type": "stream",
          "text": [
            "--2019-05-31 19:21:37--  https://www.gutenberg.org/files/59400/59400-0.txt\n",
            "Resolving www.gutenberg.org (www.gutenberg.org)... 152.19.134.47, 2610:28:3090:3000:0:bad:cafe:47\n",
            "Connecting to www.gutenberg.org (www.gutenberg.org)|152.19.134.47|:443... connected.\n",
            "HTTP request sent, awaiting response... 200 OK\n",
            "Length: 1070751 (1.0M) [text/plain]\n",
            "Saving to: ‘59400-0.txt’\n",
            "\n",
            "59400-0.txt         100%[===================>]   1.02M   729KB/s    in 1.4s    \n",
            "\n",
            "2019-05-31 19:21:39 (729 KB/s) - ‘59400-0.txt’ saved [1070751/1070751]\n",
            "\n"
          ],
          "name": "stdout"
        }
      ]
    },
    {
      "cell_type": "markdown",
      "metadata": {
        "id": "0H4q0rUvWpGH",
        "colab_type": "text"
      },
      "source": [
        "## Keras Text to word sequence"
      ]
    },
    {
      "cell_type": "code",
      "metadata": {
        "id": "KefR3G38V1HQ",
        "colab_type": "code",
        "colab": {
          "base_uri": "https://localhost:8080/",
          "height": 71
        },
        "outputId": "a35bf77d-6bd5-4d96-8a3f-9ddde7ba9dc5"
      },
      "source": [
        "from keras.preprocessing.text import text_to_word_sequence\n",
        "\n",
        "file = open('59400-0.txt', 'r')\n",
        "data = file.read()\n",
        "\n",
        "words = text_to_word_sequence(data)\n",
        "vocab_size = len(words)\n",
        "print(vocab_size)\n",
        "print(words[:100])"
      ],
      "execution_count": 15,
      "outputs": [
        {
          "output_type": "stream",
          "text": [
            "179721\n",
            "['\\ufeffproject', \"gutenberg's\", 'the', 'history', 'of', 'christianity', 'by', 'john', 's', 'c', 'abbott', 'this', 'ebook', 'is', 'for', 'the', 'use', 'of', 'anyone', 'anywhere', 'in', 'the', 'united', 'states', 'and', 'most', 'other', 'parts', 'of', 'the', 'world', 'at', 'no', 'cost', 'and', 'with', 'almost', 'no', 'restrictions', 'whatsoever', 'you', 'may', 'copy', 'it', 'give', 'it', 'away', 'or', 're', 'use', 'it', 'under', 'the', 'terms', 'of', 'the', 'project', 'gutenberg', 'license', 'included', 'with', 'this', 'ebook', 'or', 'online', 'at', 'www', 'gutenberg', 'org', 'if', 'you', 'are', 'not', 'located', 'in', 'the', 'united', 'states', \"you'll\", 'have', 'to', 'check', 'the', 'laws', 'of', 'the', 'country', 'where', 'you', 'are', 'located', 'before', 'using', 'this', 'ebook', 'title', 'the', 'history', 'of', 'christianity']\n"
          ],
          "name": "stdout"
        }
      ]
    },
    {
      "cell_type": "markdown",
      "metadata": {
        "id": "d_cWdADyXua7",
        "colab_type": "text"
      },
      "source": [
        "## Keras one hot vector"
      ]
    },
    {
      "cell_type": "code",
      "metadata": {
        "id": "WLtlOhF4Xr2b",
        "colab_type": "code",
        "colab": {
          "base_uri": "https://localhost:8080/",
          "height": 54
        },
        "outputId": "61a85d61-6096-4286-ee50-c7108019a31e"
      },
      "source": [
        "from keras.preprocessing.text import one_hot\n",
        "\n",
        "result = one_hot(data, round(vocab_size*1.3))\n",
        "print(result[:100])"
      ],
      "execution_count": 16,
      "outputs": [
        {
          "output_type": "stream",
          "text": [
            "[115429, 175301, 74540, 59220, 22591, 102285, 54848, 219574, 39552, 176056, 92749, 205461, 57454, 185810, 171894, 74540, 47852, 22591, 203776, 231300, 188886, 74540, 209865, 218174, 162227, 212073, 150149, 29581, 22591, 74540, 14932, 83209, 58311, 39641, 162227, 111381, 205479, 58311, 216757, 101183, 22904, 68639, 59280, 219316, 88975, 219316, 111498, 78525, 130458, 47852, 219316, 197047, 74540, 61191, 22591, 74540, 2543, 219911, 188369, 225959, 111381, 205461, 57454, 78525, 998, 83209, 28531, 219911, 122865, 198573, 22904, 171215, 184180, 178819, 188886, 74540, 209865, 218174, 128179, 74555, 167889, 116781, 74540, 189711, 22591, 74540, 82415, 29655, 22904, 171215, 178819, 92335, 204308, 205461, 57454, 173288, 74540, 59220, 22591, 102285]\n"
          ],
          "name": "stdout"
        }
      ]
    },
    {
      "cell_type": "code",
      "metadata": {
        "id": "nhBms_B1pE3G",
        "colab_type": "code",
        "colab": {}
      },
      "source": [
        ""
      ],
      "execution_count": 0,
      "outputs": []
    }
  ]
}
